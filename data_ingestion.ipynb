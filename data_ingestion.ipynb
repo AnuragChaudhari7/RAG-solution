{
 "cells": [
  {
   "cell_type": "code",
   "execution_count": 75,
   "metadata": {},
   "outputs": [],
   "source": [
    "import io\n",
    "import re\n",
    "import PyPDF2\n",
    "from langchain.text_splitter import RecursiveCharacterTextSplitter\n",
    "from sentence_transformers import SentenceTransformer"
   ]
  },
  {
   "cell_type": "markdown",
   "metadata": {},
   "source": [
    "# Step 1 - Extract Text from PDF as Binary File"
   ]
  },
  {
   "cell_type": "code",
   "execution_count": 76,
   "metadata": {},
   "outputs": [
    {
     "data": {
      "text/plain": [
       "\"Future\\nVignette\\nDixit\\nFUTURE\\nVIGNETTE\\nAryan\\nDixit\\nFrom\\nBANGALORE,\\nINDIA\\nDate\\n10/10/2040\\nHi\\nLex!\\nHow\\nhave\\nyou\\nbeen?\\nI’m\\nsorry\\nI\\nhaven’ t\\nbeen\\nin\\nSD\\nfor\\na\\nwhile:\\nI’ve\\nrun\\nout\\nof\\nflight\\ncarbon\\ncredits\\nfor\\nthis\\nyear.\\nThe\\nweather ’s\\nalso\\nbeen\\nweird.\\nIt’s\\nbeen\\ntorrential\\nrain\\nfor\\nthe\\npast\\nfew\\nweeks,\\nand\\nwithout\\nthe\\nMetro,\\nI’d\\nhave\\nbeen\\ncut\\noff\\nfrom\\nthe\\nworld\\nfor\\na\\ngood\\nwhile.\\nGood\\nthing\\nI’ve\\nbeen\\nworking\\nfrom\\nhome\\nanyway\\never\\nsince\\nthey\\nreturned\\nto\\nonline\\nschool\\nfor\\nmy\\nson.\\nHe’s\\ndoing\\nexcellent\\n-\\nhe\\nloves\\nonline\\nschool\\ngiven\\nthat\\nit’s\\nhis\\nfirst\\ntime.\\nBut\\nmy\\nwife\\nis\\ngetting\\nus\\nflashbacks\\nfrom\\nthe\\n2020\\npandemic.\\nWe’re\\nhoping\\nto\\ntake\\nthis\\nextended\\nclimate\\nleave\\nto\\nvisit\\nher\\nparents\\nbut\\nas\\nyou\\nknow\\nthe\\ncarbon\\ncredit\\nmarket\\nhas\\nbecome\\nreally\\nexpensive\\nafter\\nthe\\nChinese\\nreforms.\\nDown\\nhere,\\nI’ve\\nbeen\\ntrying\\nto\\nget\\ncommitments\\nfrom\\npoliticians\\nand\\nbusinessmen\\nfor\\nthe\\nRural\\nCoast\\nProtection\\nAlliance.\\nNot\\nevery\\nexposed\\nsettlement\\nin\\nIndia\\nis\\na\\nmegapolis\\nlike\\nMumbai\\n-\\nand\\nthe\\ndeflected\\nsea\\nhas\\npushed\\nwater\\non\\nthe\\npoorer ,\\nforgotten\\nneighbors\\non\\nthe\\nKonkan.\\nThis\\nnew\\njob\\nhas\\nreally\\nbeen\\nrewarding\\nin\\na\\nway\\nthat\\nmy\\nlast\\none\\nwas\\nreally\\nnot.\\nMy\\ngrandfather\\npenned\\nme\\nas\\na\\nsteward\\nover\\nthe\\nlast\\nspecks\\nof\\ngreen\\nin\\nthe\\ncity\\nof\\nYavatmal.\\nEver\\nsince,\\nI’ve\\nbeen\\nhounded\\nby\\ncalls\\nfrom\\nbusinesses\\nand\\nindustries\\nwho\\nwant\\nto\\ntear\\ndown\\nthe\\nforest\\nand\\nbuild\\ntheir\\nugly\\nfactories\\nand\\nstores.\\nIt’s\\nso\\nsatisfying\\nto\\nreject\\ntheir\\nrequests\\n-\\nI\\nhope\\nwe\\ncan\\nenjoy\\nthe\\ngreenery\\ntogether\\nwhen\\nyou\\ncome\\nto\\nIndia\\nagain.\\nHow’ s\\nSD?\\nHow’ s\\nyour\\ngirlfriend?\\nParents?\\nTell\\nme\\neverything!\\nAryanFuture\\nVignette\\nDixit\\nDESIGN\\nSUMMAR Y\\nMy\\nfuture\\nclimate\\nscenario\\nis\\nbased\\non\\nthe\\nSSP1-2.6\\npathway .\\nThis\\npathway\\ninvolves\\na\\nlimited\\namount\\nof\\npolicies\\nand\\nmaneuvers\\nto\\nevade\\nthe\\nmajor\\nclimate\\ncrisis\\nand\\nreach\\ncarbon\\nneutrality\\nwithin\\nthe\\ncentury .\\nIt\\nalso\\nenvisions\\nrising\\nsea\\nlevels\\nwhich\\nwould\\ncause\\nproblems\\nfor\\ncities\\nwho\\nalready\\nfall\\nbelow\\nthe\\nmean\\nsea\\nlevel\\nsuch\\nas\\nMumbai.\\nThus,\\nI\\nutilize\\na\\ngeneral\\nfurthering\\nof\\ncurrent\\npolicies\\nregarding\\nurban\\nplanning,\\neconomics,\\nand\\nsustainable\\ndevelopment\\npolicy\\nto\\ninform\\nmy\\nvignette.\\nI\\nimagine\\na\\nsuccessful\\nsecondary\\nmarket\\ndealing\\nin\\ncarbon\\ncredit\\nat\\nan\\nindividual\\nlevel.\\nI\\nalso\\nbuilt\\non\\npersonal\\nexperience\\nof\\nfloods\\nand\\nmonsoon\\ndeluges\\nto\\nimagine\\na\\nfuture\\nwhere\\nsuch\\na\\nsystem\\nis\\nnormal\\nand\\nexpected.\\nGiven\\nthat\\nI\\nanticipate\\nthat\\nmegapolises\\nwill\\nbe\\nable\\nto\\ncrowdfund\\nor\\nbuild\\ninfrastructure\\nto\\nsafeguard\\ntheir\\ncoasts,\\nI\\nfocus\\non\\nthe\\nrural\\nareas\\nabout\\nthe\\ncoasts.\\nI\\nconsidered\\nthe\\neffects\\nof\\nhuman-made\\nprotections\\nagainst\\nthe\\nocean\\nand\\nhow\\npotential\\nnatural\\nretaliation\\ncould\\naffect\\nhuman\\nsettlements.\\nI\\nalso\\nconsidered\\nhow\\nclimate\\nchange\\nwould\\nchange\\nthe\\nintensity\\nand\\nlength\\nof\\nthe\\nreturning\\nmonsoon\\nin\\nmy\\nhome\\ncity\\nof\\nBangalore,\\nIndia.\\nThey\\nappear\\nas\\na\\npart\\nof\\nmy\\nwork\\nand\\ndaily\\nenvironment,\\naffecting\\nand\\nbecoming\\na\\npart\\nof\\nthe\\nexpected\\nroutine.\\nI\\nhave\\nconstructed\\na\\nfuture\\npersona\\nof\\nan\\neconomic/policy\\nanalyst\\nwho\\nworks\\nfor\\nintergovernmental\\nsocial\\norganizations\\nworking\\nin\\nsustainable\\ndevelopment\\nand\\nclimate\\nresponse.\\nI\\nalso\\nportray\\nthe\\ncharacter\\nto\\nhave\\na\\nfamily\\nand\\na\\nyoung\\nchild\\nfor\\nwhom\\nthe\\nstate\\nof\\nthe\\nclimate\\nis\\nthe\\nstatus\\nquo.\\nFurthermore,\\nI\\ndiscuss\\nmy\\nstewardship\\nof\\na\\ncountryside\\nattached\\nto\\nan\\nup\\nand\\ncoming\\ncity\\nin\\nIndia\\nand\\nhow\\nthere\\nis\\ncapitalist\\npressure\\non\\nme\\nto\\nsanction\\ncommercialization\\nof\\ngreen\\nspaces.\\nIn\\norder\\nto\\nconstruct\\nthis\\nclimate\\nscenario,\\nI\\nutilized\\nthe\\nresearch\\nand\\nideas\\nof\\nDolšak\\nand\\nPrakash,\\nJohnson\\nand\\nthe\\nIPCC\\nto\\ninform\\nthis\\nfuture\\nvignette.Future\\nVignette\\nDixit\\nBIBLIOGRAPHY\\nDolšak,\\nNives,\\nand\\nAseem\\nPrakash.\\n“Different\\nApproaches\\nto\\nReducing\\nAviation\\nEmissions:\\nReviewing\\nthe\\nStructure-Agency\\nDebate\\nin\\nClimate\\nPolicy .”\\nClimate\\nAction\\n,\\nvol.\\n1,\\nno.\\n1,\\n7\\nMar.\\n2022,\\nhttps://doi.or g/10.1007/s44168-022-00001-w .\\nJohnson,\\nDavid\\nR.\\n“Defence\\nagainst\\nthe\\nRising\\nSeas.”\\nNatur e\\nClimate\\nChange\\n,\\n23\\nMar.\\n2023,\\nhttps://doi.or g/10.1038/s41558-023-01645-0.\\nNandi,\\nJayashree.\\n“NASA\\nVisualises\\nHow\\nSea\\nLevels\\nWill\\nRise\\nin\\nIndian\\nCoastal\\nRegions.”\\nHindustan\\nTimes\\n,\\n18\\nAug.\\n2021,\\nwww .hindustantimes.com/environment/nasa-visualises-how-sea-levels-will-rise-in-indian\\n-coastal-regions-101629257135231.html.Future\\nVignette\\nDixit\\nIn\\n2054,\\nI\\nenvision\\nmyself\\nas\\na\\n49-year -old\\nman\\nliving\\nbetween\\ncountries\\nfor\\na\\nliving,\\nworking\\nin\\nthe\\ntaxing\\nsector\\nof\\nnonprofit\\nmanagement\\nfor\\na\\nnational\\norganization\\ninvolved\\nin\\nsupporting\\nand\\nadvocating\\non\\nbehalf\\nof\\nsustainable\\ndevelopment\\neconomics.\\nThis\\ncharacter\\nof\\nmyself\\nthat\\nI\\nhave\\nenvisioned\\narises\\nfrom\\nsome\\nforesight\\n-\\nmostly\\npertinent\\nto\\nthe\\nfield\\nI\\nfind\\nmyself\\nworking\\nin.\\nAfter\\nhaving\\ngraduated\\nfrom\\nUCSD\\nand\\ngetting\\nfurther\\ninvolved\\nin\\ndevelopmental\\neconomics,\\nmy\\nfuture\\nself\\nbecame\\ninvolved\\nthrough\\nprojects\\nin\\nlocal\\ngovernment\\ninitiatives\\nto\\ngrow\\neconomies\\nin\\nboth\\nCalifornia\\nand\\nIndia.\\nHowever ,\\nas\\nthe\\nclimate\\ncrisis\\nbegan\\nto\\ndeteriorate\\nand\\ngovernments\\nacross\\nthe\\nworld\\nenacted\\na\\nconfusing\\npatchwork\\nof\\nrelief\\nprogrammes,\\nthe\\nclimate\\ncrisis\\nbegan\\nto\\nheadline\\nmy\\nwork.\\nHaving\\nwitnessed\\nseveral\\nareas\\nI\\nwas\\nonce\\nfond\\nof\\ndisappearing\\nor\\nfighting\\nto\\nstay\\nalive\\nin\\nthe\\nface\\nof\\nthe\\nclimate\\ncrisis\\n-\\nfrom\\ndisappearing\\ncoasts\\nto\\ndrying\\nlakes\\n-\\nI\\njoined\\nan\\nalliance\\nof\\nnonprofit\\norganizations\\nworking\\nto\\ncounteract\\nthis\\ncrisis,\\nspecializing\\nin\\nfighting\\nfor\\nrural\\nrights.\\nCultural\\nand\\nsocial\\ntides\\nforced\\ngovernments\\nto\\npit\\nsome\\ngroups\\nagainst\\neach\\nother ,\\nsuch\\nas\\nthe\\nrural\\nagainst\\nthe\\nurban,\\ncoast-dwellers\\nagainst\\nthe\\nlandlocked,\\net\\ncetera\\n-\\nforcing\\nthem\\nto\\nfight\\nfor\\noccasionally\\ncontrasting\\nproject\\nsanctions.\\nTo\\nmake\\nsense\\nof\\nthis\\nmess,\\nI\\nenvision\\nmy\\nfuture\\nself\\nin\\na\\nposition\\nof\\nadvocacy\\nand\\nadministration,\\nnegotiating\\nand\\nguiding\\ndevelopment\\nin\\na\\nsustainable\\nand\\nhuman-centric\\nfashion,\\nwhile\\npolicy\\nrestrictions\\naffect\\nmy\\nlifestyle\\nand\\nrequire\\nme\\nto\\nadapt\\nas\\nwell.Future\\nVignette\\nDixit\\nDIAR Y\\nENTR Y\\n#1\\nDATE:\\n12th\\nJan\\nWas\\ncleaning\\nout\\nmy\\nstorage\\nroom\\nyesterday\\nsince\\nwe’re\\nstormed\\nin.\\nI\\nfound\\na\\nlot\\nof\\ninteresting\\nstuff\\n-\\nbut\\nmost\\nimportantly\\nan\\nold\\ncamera.\\nIt\\nwas\\na\\nKodak\\ndigital\\ncamera\\n-\\nand\\nI\\nremember\\nthat\\nwhen\\nI\\nfirst\\ngot\\nit\\nwe\\nthought\\nit\\nwas\\nold.\\nSo\\nobviously ,\\nafter\\nwork,\\nI\\ndecided\\nto\\ntake\\nit\\nfor\\na\\nspin\\ntoday .\\nTook\\nmy\\nwife\\nand\\nLin\\nby\\nthe\\nPurple\\nLine\\nto\\nPacific-Mission\\nBay\\n(as\\nI\\ncall\\nit).\\nThe\\ncamera\\nhad\\nreally\\nlow-resolution\\nquality\\nbut\\nwith\\na\\nfantastic\\nvibe.\\nMost\\nof\\nthe\\nstragglers\\nby\\nthe\\nBay\\nwere\\nour\\nage\\n-\\nthey\\nknew\\nwhat\\nI\\nwas\\nholding\\n-\\nbut\\nthe\\nkids\\nwere\\nfascinated.\\nAmazingly ,\\nthere\\nwere\\nstill\\nsome\\npictures\\nof\\nmine\\nfrom\\nback\\nin\\nthe\\nday\\non\\nthe\\ncamera’ s\\nSD\\ncard.\\nMy\\nwife\\nthought\\nthey\\nwere\\nedited\\nphotographs\\nbut\\nAl\\npiped\\nup\\nfrom\\nthe\\ncar\\nstereo\\nthat\\nthey\\nwere,\\nin\\nfact,\\nnot.\\nBut\\nI\\ncan't\\nblame\\nher\\nfor\\nthinking\\nso\\n-\\nshe\\ndidn’ t\\nlive\\nin\\nSan\\nDiego\\nback\\nwhen\\nit\\nresembled\\nthat.\\nWhere\\nthere\\nwas\\nonce\\na\\nteeming\\nland\\necosystem\\nby\\nthe\\nMission\\nBay,\\nthere\\nwas\\nnow\\njust\\nwater .\\nWhere\\nonce\\nthere\\nwas\\nthe\\nSilver\\nStrand\\nIsland\\nthere\\nare\\njust\\npeppered\\nislets.\\nBoth\\nkids\\nwere\\nbamboozled\\nby\\nit\\n-\\nbut\\nAl’s\\nsoftware\\npatched\\nup\\na\\nquick\\n(it\\ntook\\na\\ngood\\n30\\nminutes\\nbecause\\nour\\nfiber\\nspeed\\nwas\\nslowed\\nfor\\nequitable\\ndistribution)\\nvisual\\ndeconstruction\\nof\\nthe\\ntopic.\\nIt\\nwas\\na\\nrather\\nproductive\\nconversation\\nto\\nhave\\nover\\nthe\\ndinner\\ntable,\\nespecially\\ngiven\\nthe\\nminute\\nattention\\nspans\\nof\\nkids\\nthese\\ndays.\\nI\\nhaven’ t\\nseen\\nthem\\nso\\nengaged\\nover\\nsomething\\nsince\\nAl\\ngot\\nhis\\nculinary\\nupdate\\n-\\nthat\\ntoo\\ndistracted\\nfrom\\ntheir\\nhypercustomized\\ndesserts.\\nIt’s\\na\\nweird\\ntime\\nto\\nbe\\nalive,\\nbut\\nanything’ s\\nmore\\nfun\\nthan\\nthinking\\nabout\\ngoing\\nto\\nthe\\noffice\\nto\\neliminate\\nmy\\nown\\njob\\nagain.\\nI’m\\ngoing\\nto\\nsleep\\nafter\\nwriting\\nthis.\\nThere’ s\\ntoo\\nmuch\\nexistentialism\\nin\\nall\\nof\\nthis\\nand\\nI\\ndon’t\\nneed\\na\\nmidlife\\ncrisis.Future\\nVignette\\nDixit\\nDIAR Y\\nENTR Y\\n#2\\nDATE:\\n18th\\nMay\\nI’m\\nfurious.\\nSenator\\nJacobs\\nis\\nsupporting\\nthe\\n“multipartisan”\\nbill\\nto\\nrestrict\\ninternational\\nand\\nout-of-state\\nenrollment\\nin\\ncolleges.\\nApparently\\nthis\\nis\\nsome\\neffort\\nto\\nconserve\\ncarbon\\ncredits\\ncaused\\nby\\ndelocalized\\nstudents\\nwhich\\nis\\ninsane.\\nRitwick\\nis\\ngoing\\nto\\napply\\nfor\\ncollege\\nnext\\nyear\\nand\\nthe\\nidea\\nthat\\nhe\\ncan’t\\napply\\nto\\nhis\\ndream\\nuniversity\\nis\\nappalling.\\nDon’ t\\nthese\\npoliticians\\nhave\\nkids?\\nAlthough,\\nthose\\nkids\\nwould\\nprobably\\nget\\ninto\\nthose\\nquotas\\n-\\nthe\\npoliticians\\nalways\\nhave\\nbackdoors.\\nI’m\\nnot\\nvoting\\nfor\\nJacobs\\nagain.\\nRitwick\\nwas\\nfrustrated\\ntoday ,\\ngiven\\nthat\\nSasha\\nis\\nalready\\nin\\ncollege\\non\\nthe\\nEast\\nCoast\\n-\\nand\\nhe\\nmay\\nnever\\nget\\na\\nfair\\nchance\\nto\\napply\\nis\\nridiculous.\\nMy\\nday’s\\nbeen\\ntaken\\nup\\njust\\nranting\\nto\\nother\\nco-workers.\\nI\\neven\\nstarted\\na\\nconversation\\nwith\\nthe\\nstrange\\nold\\nman\\nsitting\\nbeside\\nme\\non\\nthe\\nTrolley\\nabout\\nit.\\nHe\\nwas\\nfrom\\nTJ,\\nand\\nwas\\nworried\\nabout\\nhis\\ngrandchildren\\nwho\\nwere\\nalready\\nin\\ntough\\nstraits\\nbecause\\nof\\nthe\\nrepeated\\nhurricanes.\\nThey\\nwent\\nto\\nhigh\\nschool\\ndown\\nby\\nthe\\nRiver\\nValley\\n-\\nand\\nany\\nhopes\\nof\\napplying\\nto\\na\\nCSU\\nseemed\\nto\\nbe\\ncrushed\\nfor\\nthem.\\nI\\naccidentally\\nrode\\nthe\\nPurple\\nLine\\nto\\nthe\\nborder\\nwith\\nhim\\n-\\nbut\\nit\\nwas\\nnot\\nin\\nvain.\\nWhat’ s\\nnext,\\nI\\nwonder .\\nActually ,\\nI\\ndon’t.\\nIt’s\\ngetting\\nmore\\nhumid,\\nthe\\nfloods\\nare\\nbecoming\\nrampant,\\nand\\ninstead\\nof\\nfocusing\\nour\\nefforts\\non\\nstopping\\nthe\\nphysical\\nchanges\\nwe\\nsee\\nbefore\\nus,\\nthe\\npolitical\\nmachine\\nhas\\nbroken\\ndown.\\nSometimes,\\nI\\nfeel\\nlike\\nAl\\nwould\\ndo\\na\\nbetter\\njob\\nin\\nplace\\nof\\nthe\\nSenate.Future\\nVignette\\nDixit\\nDIAR Y\\nENTR Y\\n#3\\nDATE:\\n20th\\nAugust\\nThe\\nhurricane\\nwas\\nmerciless\\ndown\\nby\\nChula\\nVista.\\nIt\\nwas\\nraining\\nfor\\ndays\\noutside\\nmy\\nhouse.\\nThey’ve\\ncanceled\\nin-person\\nwork,\\nbut\\nAl\\nmonitors\\nus\\nanyway\\nso\\nit’s\\nnothing\\nout-of-the-ordinary .\\nRitwick’ s\\nbegun\\nhis\\ncollege\\napplications.\\nHe’s\\nhad\\nAl\\nworking\\novertime\\nto\\ncompile\\nthe\\nmost\\nunique\\nset\\nof\\nattributes\\nto\\ndescribe.\\nThere\\nwere\\nquestions\\nabout\\nhardships\\nand\\nchallenges\\n-\\nhe’s\\nhad\\nhis\\nfair\\nshare\\nof\\nthose.\\nOver\\nthe\\nlast\\n17\\nyears,\\nhe’s\\nhad\\na\\nmore\\nconfusing\\nchildhood\\nthan\\nI\\never\\ndid.\\nAll\\nthe\\nwarnings\\nand\\ninstability\\nhas\\nresulted\\nin\\na\\nbroken\\nsystem\\nthat\\nis\\ndifficult\\nto\\nnavigate.\\nAnd\\nI’m\\nnot\\nused\\nto\\nthis\\nlevel\\nof\\nchange\\n-\\nI\\nnever\\ngrew\\nup\\nexposed\\nto\\nimperfect\\nweather\\nand\\nthe\\nwhims\\nof\\nthe\\nweather .\\nI\\nvisited\\na\\ndozen\\ncountries\\nin\\nmy\\nchildhood\\n-\\nhe’s\\nbeen\\noutside\\nthe\\nstate\\naround\\nhalf\\nthat.\\nThe\\nworld\\nis\\nchanging\\nfor\\nthe\\nworse\\n-\\nalthough\\nsome\\nscientists\\nkeep\\nsaying\\nit\\ncould\\nbe\\nworse\\nI\\ncan’t\\nimagine\\nhow.\\nWhat\\ncould\\nbe\\nworse\\nthan\\nthis\\nspider -like\\nauthority\\ncontrolling\\nand\\nmanipulating\\nour\\nlives\\nalbeit\\nfor\\nour\\ncontinued\\nsurvival?\\nWe’ve\\nsacrificed\\na\\nlot\\nof\\nthings\\nin\\nthe\\nname\\nof\\nclimate\\nrelief\\n-\\nour\\nfreedoms\\nand\\nour\\ncomforts.\\nI’ve\\nbeen\\nin\\na\\nrather\\npensive\\nmood\\nall\\nweek\\nabout\\nit.\\nWas\\nit\\nworth\\nit?\\nWas\\nour\\nsurvival\\nthat\\nimportant\\nthat\\nwe\\nforever\\nerased\\nour\\npast\\nculture\\nand\\ncreated\\na\\nnew,\\nabsurd\\none?\\nIt\\nsounds\\nlike\\nthey\\nshould\\nask\\nthat\\nin\\ncollege\\nessays.\\nLife’ s\\ngetting\\nweird.\""
      ]
     },
     "execution_count": 76,
     "metadata": {},
     "output_type": "execute_result"
    }
   ],
   "source": [
    "with open('sample1.pdf', 'rb') as pdf_file:\n",
    "    reader = PyPDF2.PdfReader(io.BytesIO(pdf_file.read()))\n",
    "    text = ''\n",
    "    for page_num in range(len(reader.pages)):\n",
    "        page = reader.pages[page_num]\n",
    "        text += page.extract_text()\n",
    "text"
   ]
  },
  {
   "cell_type": "code",
   "execution_count": 77,
   "metadata": {},
   "outputs": [
    {
     "data": {
      "text/plain": [
       "\"Future Vignette Dixit FUTURE VIGNETTE Aryan Dixit From BANGALORE, INDIA Date 10/10/2040 Hi Lex! How have you been? I’m sorry I haven’ t been in SD for a while: I’ve run out of flight carbon credits for this year. The weather ’s also been weird. It’s been torrential rain for the past few weeks, and without the Metro, I’d have been cut off from the world for a good while. Good thing I’ve been working from home anyway ever since they returned to online school for my son. He’s doing excellent - he loves online school given that it’s his first time. But my wife is getting us flashbacks from the 2020 pandemic. We’re hoping to take this extended climate leave to visit her parents but as you know the carbon credit market has become really expensive after the Chinese reforms. Down here, I’ve been trying to get commitments from politicians and businessmen for the Rural Coast Protection Alliance. Not every exposed settlement in India is a megapolis like Mumbai - and the deflected sea has pushed water on the poorer , forgotten neighbors on the Konkan. This new job has really been rewarding in a way that my last one was really not. My grandfather penned me as a steward over the last specks of green in the city of Yavatmal. Ever since, I’ve been hounded by calls from businesses and industries who want to tear down the forest and build their ugly factories and stores. It’s so satisfying to reject their requests - I hope we can enjoy the greenery together when you come to India again. How’ s SD? How’ s your girlfriend? Parents? Tell me everything! AryanFuture Vignette Dixit DESIGN SUMMAR Y My future climate scenario is based on the SSP1-2.6 pathway . This pathway involves a limited amount of policies and maneuvers to evade the major climate crisis and reach carbon neutrality within the century . It also envisions rising sea levels which would cause problems for cities who already fall below the mean sea level such as Mumbai. Thus, I utilize a general furthering of current policies regarding urban planning, economics, and sustainable development policy to inform my vignette. I imagine a successful secondary market dealing in carbon credit at an individual level. I also built on personal experience of floods and monsoon deluges to imagine a future where such a system is normal and expected. Given that I anticipate that megapolises will be able to crowdfund or build infrastructure to safeguard their coasts, I focus on the rural areas about the coasts. I considered the effects of human-made protections against the ocean and how potential natural retaliation could affect human settlements. I also considered how climate change would change the intensity and length of the returning monsoon in my home city of Bangalore, India. They appear as a part of my work and daily environment, affecting and becoming a part of the expected routine. I have constructed a future persona of an economic/policy analyst who works for intergovernmental social organizations working in sustainable development and climate response. I also portray the character to have a family and a young child for whom the state of the climate is the status quo. Furthermore, I discuss my stewardship of a countryside attached to an up and coming city in India and how there is capitalist pressure on me to sanction commercialization of green spaces. In order to construct this climate scenario, I utilized the research and ideas of Dolšak and Prakash, Johnson and the IPCC to inform this future vignette.Future Vignette Dixit BIBLIOGRAPHY Dolšak, Nives, and Aseem Prakash. “Different Approaches to Reducing Aviation Emissions: Reviewing the Structure-Agency Debate in Climate Policy .” Climate Action , vol. 1, no. 1, 7 Mar. 2022, https://doi.or g/10.1007/s44168-022-00001-w . Johnson, David R. “Defence against the Rising Seas.” Natur e Climate Change , 23 Mar. 2023, https://doi.or g/10.1038/s41558-023-01645-0. Nandi, Jayashree. “NASA Visualises How Sea Levels Will Rise in Indian Coastal Regions.” Hindustan Times , 18 Aug. 2021, www .hindustantimes.com/environment/nasa-visualises-how-sea-levels-will-rise-in-indian -coastal-regions-101629257135231.html.Future Vignette Dixit In 2054, I envision myself as a 49-year -old man living between countries for a living, working in the taxing sector of nonprofit management for a national organization involved in supporting and advocating on behalf of sustainable development economics. This character of myself that I have envisioned arises from some foresight - mostly pertinent to the field I find myself working in. After having graduated from UCSD and getting further involved in developmental economics, my future self became involved through projects in local government initiatives to grow economies in both California and India. However , as the climate crisis began to deteriorate and governments across the world enacted a confusing patchwork of relief programmes, the climate crisis began to headline my work. Having witnessed several areas I was once fond of disappearing or fighting to stay alive in the face of the climate crisis - from disappearing coasts to drying lakes - I joined an alliance of nonprofit organizations working to counteract this crisis, specializing in fighting for rural rights. Cultural and social tides forced governments to pit some groups against each other , such as the rural against the urban, coast-dwellers against the landlocked, et cetera - forcing them to fight for occasionally contrasting project sanctions. To make sense of this mess, I envision my future self in a position of advocacy and administration, negotiating and guiding development in a sustainable and human-centric fashion, while policy restrictions affect my lifestyle and require me to adapt as well.Future Vignette Dixit DIAR Y ENTR Y #1 DATE: 12th Jan Was cleaning out my storage room yesterday since we’re stormed in. I found a lot of interesting stuff - but most importantly an old camera. It was a Kodak digital camera - and I remember that when I first got it we thought it was old. So obviously , after work, I decided to take it for a spin today . Took my wife and Lin by the Purple Line to Pacific-Mission Bay (as I call it). The camera had really low-resolution quality but with a fantastic vibe. Most of the stragglers by the Bay were our age - they knew what I was holding - but the kids were fascinated. Amazingly , there were still some pictures of mine from back in the day on the camera’ s SD card. My wife thought they were edited photographs but Al piped up from the car stereo that they were, in fact, not. But I can't blame her for thinking so - she didn’ t live in San Diego back when it resembled that. Where there was once a teeming land ecosystem by the Mission Bay, there was now just water . Where once there was the Silver Strand Island there are just peppered islets. Both kids were bamboozled by it - but Al’s software patched up a quick (it took a good 30 minutes because our fiber speed was slowed for equitable distribution) visual deconstruction of the topic. It was a rather productive conversation to have over the dinner table, especially given the minute attention spans of kids these days. I haven’ t seen them so engaged over something since Al got his culinary update - that too distracted from their hypercustomized desserts. It’s a weird time to be alive, but anything’ s more fun than thinking about going to the office to eliminate my own job again. I’m going to sleep after writing this. There’ s too much existentialism in all of this and I don’t need a midlife crisis.Future Vignette Dixit DIAR Y ENTR Y #2 DATE: 18th May I’m furious. Senator Jacobs is supporting the “multipartisan” bill to restrict international and out-of-state enrollment in colleges. Apparently this is some effort to conserve carbon credits caused by delocalized students which is insane. Ritwick is going to apply for college next year and the idea that he can’t apply to his dream university is appalling. Don’ t these politicians have kids? Although, those kids would probably get into those quotas - the politicians always have backdoors. I’m not voting for Jacobs again. Ritwick was frustrated today , given that Sasha is already in college on the East Coast - and he may never get a fair chance to apply is ridiculous. My day’s been taken up just ranting to other co-workers. I even started a conversation with the strange old man sitting beside me on the Trolley about it. He was from TJ, and was worried about his grandchildren who were already in tough straits because of the repeated hurricanes. They went to high school down by the River Valley - and any hopes of applying to a CSU seemed to be crushed for them. I accidentally rode the Purple Line to the border with him - but it was not in vain. What’ s next, I wonder . Actually , I don’t. It’s getting more humid, the floods are becoming rampant, and instead of focusing our efforts on stopping the physical changes we see before us, the political machine has broken down. Sometimes, I feel like Al would do a better job in place of the Senate.Future Vignette Dixit DIAR Y ENTR Y #3 DATE: 20th August The hurricane was merciless down by Chula Vista. It was raining for days outside my house. They’ve canceled in-person work, but Al monitors us anyway so it’s nothing out-of-the-ordinary . Ritwick’ s begun his college applications. He’s had Al working overtime to compile the most unique set of attributes to describe. There were questions about hardships and challenges - he’s had his fair share of those. Over the last 17 years, he’s had a more confusing childhood than I ever did. All the warnings and instability has resulted in a broken system that is difficult to navigate. And I’m not used to this level of change - I never grew up exposed to imperfect weather and the whims of the weather . I visited a dozen countries in my childhood - he’s been outside the state around half that. The world is changing for the worse - although some scientists keep saying it could be worse I can’t imagine how. What could be worse than this spider -like authority controlling and manipulating our lives albeit for our continued survival? We’ve sacrificed a lot of things in the name of climate relief - our freedoms and our comforts. I’ve been in a rather pensive mood all week about it. Was it worth it? Was our survival that important that we forever erased our past culture and created a new, absurd one? It sounds like they should ask that in college essays. Life’ s getting weird.\""
      ]
     },
     "execution_count": 77,
     "metadata": {},
     "output_type": "execute_result"
    }
   ],
   "source": [
    "# Remove tabs and newlines etc\n",
    "cleaned_text = re.sub(r'[\\t\\n]', ' ', text)\n",
    "\n",
    "cleaned_text\n"
   ]
  },
  {
   "cell_type": "code",
   "execution_count": 78,
   "metadata": {},
   "outputs": [
    {
     "data": {
      "text/plain": [
       "10525"
      ]
     },
     "execution_count": 78,
     "metadata": {},
     "output_type": "execute_result"
    }
   ],
   "source": [
    "len(cleaned_text)"
   ]
  },
  {
   "cell_type": "markdown",
   "metadata": {},
   "source": [
    "# Step 2 - Chunk the Text Data"
   ]
  },
  {
   "cell_type": "code",
   "execution_count": 79,
   "metadata": {},
   "outputs": [
    {
     "data": {
      "text/plain": [
       "(['Future Vignette Dixit FUTURE VIGNETTE Aryan Dixit From BANGALORE, INDIA Date 10/10/2040 Hi Lex! How have you been? I’m sorry I haven’ t been in SD for a while: I’ve run out of flight carbon credits for this year. The weather ’s also been weird. It’s been torrential rain for the past few weeks, and without the Metro, I’d have been cut off from the world for a good while. Good thing I’ve been working from home anyway ever since they returned to online school for my son. He’s doing excellent - he loves online school given that it’s his first time. But my wife is getting us flashbacks from the 2020 pandemic. We’re hoping to take this extended climate leave to visit her parents but as you know the carbon credit market has become really expensive after the Chinese reforms. Down here, I’ve been trying to get commitments from politicians and businessmen for the Rural Coast Protection Alliance. Not every exposed settlement in India is a megapolis like Mumbai - and the deflected sea has pushed',\n",
       "  'sea has pushed water on the poorer , forgotten neighbors on the Konkan. This new job has really been rewarding in a way that my last one was really not. My grandfather penned me as a steward over the last specks of green in the city of Yavatmal. Ever since, I’ve been hounded by calls from businesses and industries who want to tear down the forest and build their ugly factories and stores. It’s so satisfying to reject their requests - I hope we can enjoy the greenery together when you come to India again. How’ s SD? How’ s your girlfriend? Parents? Tell me everything! AryanFuture Vignette Dixit DESIGN SUMMAR Y My future climate scenario is based on the SSP1-2.6 pathway . This pathway involves a limited amount of policies and maneuvers to evade the major climate crisis and reach carbon neutrality within the century . It also envisions rising sea levels which would cause problems for cities who already fall below the mean sea level such as Mumbai. Thus, I utilize a general furthering of',\n",
       "  'furthering of current policies regarding urban planning, economics, and sustainable development policy to inform my vignette. I imagine a successful secondary market dealing in carbon credit at an individual level. I also built on personal experience of floods and monsoon deluges to imagine a future where such a system is normal and expected. Given that I anticipate that megapolises will be able to crowdfund or build infrastructure to safeguard their coasts, I focus on the rural areas about the coasts. I considered the effects of human-made protections against the ocean and how potential natural retaliation could affect human settlements. I also considered how climate change would change the intensity and length of the returning monsoon in my home city of Bangalore, India. They appear as a part of my work and daily environment, affecting and becoming a part of the expected routine. I have constructed a future persona of an economic/policy analyst who works for intergovernmental social',\n",
       "  'social organizations working in sustainable development and climate response. I also portray the character to have a family and a young child for whom the state of the climate is the status quo. Furthermore, I discuss my stewardship of a countryside attached to an up and coming city in India and how there is capitalist pressure on me to sanction commercialization of green spaces. In order to construct this climate scenario, I utilized the research and ideas of Dolšak and Prakash, Johnson and the IPCC to inform this future vignette.Future Vignette Dixit BIBLIOGRAPHY Dolšak, Nives, and Aseem Prakash. “Different Approaches to Reducing Aviation Emissions: Reviewing the Structure-Agency Debate in Climate Policy .” Climate Action , vol. 1, no. 1, 7 Mar. 2022, https://doi.or g/10.1007/s44168-022-00001-w . Johnson, David R. “Defence against the Rising Seas.” Natur e Climate Change , 23 Mar. 2023, https://doi.or g/10.1038/s41558-023-01645-0. Nandi, Jayashree. “NASA Visualises How Sea Levels',\n",
       "  'How Sea Levels Will Rise in Indian Coastal Regions.” Hindustan Times , 18 Aug. 2021, www .hindustantimes.com/environment/nasa-visualises-how-sea-levels-will-rise-in-indian -coastal-regions-101629257135231.html.Future Vignette Dixit In 2054, I envision myself as a 49-year -old man living between countries for a living, working in the taxing sector of nonprofit management for a national organization involved in supporting and advocating on behalf of sustainable development economics. This character of myself that I have envisioned arises from some foresight - mostly pertinent to the field I find myself working in. After having graduated from UCSD and getting further involved in developmental economics, my future self became involved through projects in local government initiatives to grow economies in both California and India. However , as the climate crisis began to deteriorate and governments across the world enacted a confusing patchwork of relief programmes, the climate crisis',\n",
       "  'the climate crisis began to headline my work. Having witnessed several areas I was once fond of disappearing or fighting to stay alive in the face of the climate crisis - from disappearing coasts to drying lakes - I joined an alliance of nonprofit organizations working to counteract this crisis, specializing in fighting for rural rights. Cultural and social tides forced governments to pit some groups against each other , such as the rural against the urban, coast-dwellers against the landlocked, et cetera - forcing them to fight for occasionally contrasting project sanctions. To make sense of this mess, I envision my future self in a position of advocacy and administration, negotiating and guiding development in a sustainable and human-centric fashion, while policy restrictions affect my lifestyle and require me to adapt as well.Future Vignette Dixit DIAR Y ENTR Y #1 DATE: 12th Jan Was cleaning out my storage room yesterday since we’re stormed in. I found a lot of interesting stuff -',\n",
       "  \"interesting stuff - but most importantly an old camera. It was a Kodak digital camera - and I remember that when I first got it we thought it was old. So obviously , after work, I decided to take it for a spin today . Took my wife and Lin by the Purple Line to Pacific-Mission Bay (as I call it). The camera had really low-resolution quality but with a fantastic vibe. Most of the stragglers by the Bay were our age - they knew what I was holding - but the kids were fascinated. Amazingly , there were still some pictures of mine from back in the day on the camera’ s SD card. My wife thought they were edited photographs but Al piped up from the car stereo that they were, in fact, not. But I can't blame her for thinking so - she didn’ t live in San Diego back when it resembled that. Where there was once a teeming land ecosystem by the Mission Bay, there was now just water . Where once there was the Silver Strand Island there are just peppered islets. Both kids were bamboozled by it - but\",\n",
       "  'by it - but Al’s software patched up a quick (it took a good 30 minutes because our fiber speed was slowed for equitable distribution) visual deconstruction of the topic. It was a rather productive conversation to have over the dinner table, especially given the minute attention spans of kids these days. I haven’ t seen them so engaged over something since Al got his culinary update - that too distracted from their hypercustomized desserts. It’s a weird time to be alive, but anything’ s more fun than thinking about going to the office to eliminate my own job again. I’m going to sleep after writing this. There’ s too much existentialism in all of this and I don’t need a midlife crisis.Future Vignette Dixit DIAR Y ENTR Y #2 DATE: 18th May I’m furious. Senator Jacobs is supporting the “multipartisan” bill to restrict international and out-of-state enrollment in colleges. Apparently this is some effort to conserve carbon credits caused by delocalized students which is insane. Ritwick is',\n",
       "  'insane. Ritwick is going to apply for college next year and the idea that he can’t apply to his dream university is appalling. Don’ t these politicians have kids? Although, those kids would probably get into those quotas - the politicians always have backdoors. I’m not voting for Jacobs again. Ritwick was frustrated today , given that Sasha is already in college on the East Coast - and he may never get a fair chance to apply is ridiculous. My day’s been taken up just ranting to other co-workers. I even started a conversation with the strange old man sitting beside me on the Trolley about it. He was from TJ, and was worried about his grandchildren who were already in tough straits because of the repeated hurricanes. They went to high school down by the River Valley - and any hopes of applying to a CSU seemed to be crushed for them. I accidentally rode the Purple Line to the border with him - but it was not in vain. What’ s next, I wonder . Actually , I don’t. It’s getting more humid,',\n",
       "  'getting more humid, the floods are becoming rampant, and instead of focusing our efforts on stopping the physical changes we see before us, the political machine has broken down. Sometimes, I feel like Al would do a better job in place of the Senate.Future Vignette Dixit DIAR Y ENTR Y #3 DATE: 20th August The hurricane was merciless down by Chula Vista. It was raining for days outside my house. They’ve canceled in-person work, but Al monitors us anyway so it’s nothing out-of-the-ordinary . Ritwick’ s begun his college applications. He’s had Al working overtime to compile the most unique set of attributes to describe. There were questions about hardships and challenges - he’s had his fair share of those. Over the last 17 years, he’s had a more confusing childhood than I ever did. All the warnings and instability has resulted in a broken system that is difficult to navigate. And I’m not used to this level of change - I never grew up exposed to imperfect weather and the whims of the',\n",
       "  'the whims of the weather . I visited a dozen countries in my childhood - he’s been outside the state around half that. The world is changing for the worse - although some scientists keep saying it could be worse I can’t imagine how. What could be worse than this spider -like authority controlling and manipulating our lives albeit for our continued survival? We’ve sacrificed a lot of things in the name of climate relief - our freedoms and our comforts. I’ve been in a rather pensive mood all week about it. Was it worth it? Was our survival that important that we forever erased our past culture and created a new, absurd one? It sounds like they should ask that in college essays. Life’ s getting weird.'],\n",
       " 11)"
      ]
     },
     "execution_count": 79,
     "metadata": {},
     "output_type": "execute_result"
    }
   ],
   "source": [
    "text_splitter = RecursiveCharacterTextSplitter(\n",
    "    chunk_size = 1000,\n",
    "    chunk_overlap = 20\n",
    ")\n",
    "\n",
    "chunks = text_splitter.split_text(cleaned_text)\n",
    "chunks, len(chunks)"
   ]
  },
  {
   "cell_type": "markdown",
   "metadata": {},
   "source": [
    "# Step 3 - Create vector embeddings for the chunks"
   ]
  },
  {
   "cell_type": "code",
   "execution_count": 80,
   "metadata": {},
   "outputs": [
    {
     "data": {
      "text/plain": [
       "array([[ 0.01991415,  0.12412882, -0.02452128, ...,  0.03452208,\n",
       "        -0.04589315, -0.05247775],\n",
       "       [ 0.01163632,  0.06817073, -0.01341491, ...,  0.03701388,\n",
       "        -0.02111758, -0.05861896],\n",
       "       [-0.00487314,  0.08376364, -0.01711119, ...,  0.02850831,\n",
       "        -0.03659141, -0.03194457],\n",
       "       ...,\n",
       "       [-0.0424286 ,  0.07058449,  0.0071744 , ..., -0.02234123,\n",
       "        -0.05378294, -0.00617511],\n",
       "       [-0.01390471,  0.1200045 , -0.01092025, ..., -0.01008429,\n",
       "         0.00384011, -0.01601044],\n",
       "       [-0.00042852,  0.0714843 , -0.00043344, ...,  0.02423266,\n",
       "        -0.01087992,  0.00616978]], dtype=float32)"
      ]
     },
     "execution_count": 80,
     "metadata": {},
     "output_type": "execute_result"
    }
   ],
   "source": [
    "transformer_model = SentenceTransformer('sentence-transformers/all-mpnet-base-v2')\n",
    "embeddings = transformer_model.encode(chunks)\n",
    "\n",
    "embeddings"
   ]
  }
 ],
 "metadata": {
  "kernelspec": {
   "display_name": ".venv",
   "language": "python",
   "name": "python3"
  },
  "language_info": {
   "codemirror_mode": {
    "name": "ipython",
    "version": 3
   },
   "file_extension": ".py",
   "mimetype": "text/x-python",
   "name": "python",
   "nbconvert_exporter": "python",
   "pygments_lexer": "ipython3",
   "version": "3.12.6"
  }
 },
 "nbformat": 4,
 "nbformat_minor": 2
}
